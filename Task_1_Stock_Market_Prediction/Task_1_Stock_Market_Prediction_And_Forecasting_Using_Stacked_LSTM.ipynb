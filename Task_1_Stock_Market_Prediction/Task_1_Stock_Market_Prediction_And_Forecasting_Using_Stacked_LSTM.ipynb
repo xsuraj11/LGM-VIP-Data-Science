{
  "nbformat": 4,
  "nbformat_minor": 0,
  "metadata": {
    "colab": {
      "name": "Task 1 Stock Market Prediction And Forecasting Using Stacked LSTM.ipynb",
      "provenance": [],
      "collapsed_sections": []
    },
    "kernelspec": {
      "name": "python3",
      "display_name": "Python 3"
    },
    "language_info": {
      "name": "python"
    }
  },
  "cells": [
    {
      "cell_type": "markdown",
      "metadata": {
        "id": "MxkbHD2WwGyB"
      },
      "source": [
        "## **LetsGrowMore #Oct2021**\n",
        "\n",
        "Author - Suraj Shrimant Mane\n",
        "\n",
        "Task-1: Stock Market Prediction And Forecasting Using Stacked LSTM\n",
        "\n",
        "Level : Beginner\n",
        "\n",
        "Language-Python\n",
        "\n",
        "Software-Colab Notebook\n",
        "\n",
        "Dataset-: https://raw.githubusercontent.com/mwitiderrick/stockprice/master/NSE-TATAGLOBAL.csv\n"
      ]
    },
    {
      "cell_type": "markdown",
      "metadata": {
        "id": "Kw9vvHD4wnnO"
      },
      "source": [
        "**Importing Required Libraries**"
      ]
    },
    {
      "cell_type": "code",
      "metadata": {
        "id": "CkL1NCX3qNsS"
      },
      "source": [
        "import numpy as np\n",
        "import pandas as pd\n",
        "import matplotlib.pyplot as plt\n",
        "import tensorflow as tf\n",
        "from sklearn.preprocessing import MinMaxScaler\n",
        "\n",
        "import warnings\n",
        "warnings.filterwarnings(\"ignore\")"
      ],
      "execution_count": 1,
      "outputs": []
    },
    {
      "cell_type": "markdown",
      "metadata": {
        "id": "ZDRdIFb8wzFo"
      },
      "source": [
        "**Reading the Dataset**"
      ]
    },
    {
      "cell_type": "code",
      "metadata": {
        "id": "utIiTUc6qdI4"
      },
      "source": [
        "data = pd.read_csv(\"https://raw.githubusercontent.com/mwitiderrick/stockprice/master/NSE-TATAGLOBAL.csv\")"
      ],
      "execution_count": 2,
      "outputs": []
    },
    {
      "cell_type": "code",
      "metadata": {
        "colab": {
          "base_uri": "https://localhost:8080/",
          "height": 206
        },
        "id": "-iF3jVDKrrY9",
        "outputId": "94a22f9b-5063-407d-81df-3b4a10a6710b"
      },
      "source": [
        "data.head()"
      ],
      "execution_count": 3,
      "outputs": [
        {
          "output_type": "execute_result",
          "data": {
            "text/html": [
              "<div>\n",
              "<style scoped>\n",
              "    .dataframe tbody tr th:only-of-type {\n",
              "        vertical-align: middle;\n",
              "    }\n",
              "\n",
              "    .dataframe tbody tr th {\n",
              "        vertical-align: top;\n",
              "    }\n",
              "\n",
              "    .dataframe thead th {\n",
              "        text-align: right;\n",
              "    }\n",
              "</style>\n",
              "<table border=\"1\" class=\"dataframe\">\n",
              "  <thead>\n",
              "    <tr style=\"text-align: right;\">\n",
              "      <th></th>\n",
              "      <th>Date</th>\n",
              "      <th>Open</th>\n",
              "      <th>High</th>\n",
              "      <th>Low</th>\n",
              "      <th>Last</th>\n",
              "      <th>Close</th>\n",
              "      <th>Total Trade Quantity</th>\n",
              "      <th>Turnover (Lacs)</th>\n",
              "    </tr>\n",
              "  </thead>\n",
              "  <tbody>\n",
              "    <tr>\n",
              "      <th>0</th>\n",
              "      <td>2018-09-28</td>\n",
              "      <td>234.05</td>\n",
              "      <td>235.95</td>\n",
              "      <td>230.20</td>\n",
              "      <td>233.50</td>\n",
              "      <td>233.75</td>\n",
              "      <td>3069914</td>\n",
              "      <td>7162.35</td>\n",
              "    </tr>\n",
              "    <tr>\n",
              "      <th>1</th>\n",
              "      <td>2018-09-27</td>\n",
              "      <td>234.55</td>\n",
              "      <td>236.80</td>\n",
              "      <td>231.10</td>\n",
              "      <td>233.80</td>\n",
              "      <td>233.25</td>\n",
              "      <td>5082859</td>\n",
              "      <td>11859.95</td>\n",
              "    </tr>\n",
              "    <tr>\n",
              "      <th>2</th>\n",
              "      <td>2018-09-26</td>\n",
              "      <td>240.00</td>\n",
              "      <td>240.00</td>\n",
              "      <td>232.50</td>\n",
              "      <td>235.00</td>\n",
              "      <td>234.25</td>\n",
              "      <td>2240909</td>\n",
              "      <td>5248.60</td>\n",
              "    </tr>\n",
              "    <tr>\n",
              "      <th>3</th>\n",
              "      <td>2018-09-25</td>\n",
              "      <td>233.30</td>\n",
              "      <td>236.75</td>\n",
              "      <td>232.00</td>\n",
              "      <td>236.25</td>\n",
              "      <td>236.10</td>\n",
              "      <td>2349368</td>\n",
              "      <td>5503.90</td>\n",
              "    </tr>\n",
              "    <tr>\n",
              "      <th>4</th>\n",
              "      <td>2018-09-24</td>\n",
              "      <td>233.55</td>\n",
              "      <td>239.20</td>\n",
              "      <td>230.75</td>\n",
              "      <td>234.00</td>\n",
              "      <td>233.30</td>\n",
              "      <td>3423509</td>\n",
              "      <td>7999.55</td>\n",
              "    </tr>\n",
              "  </tbody>\n",
              "</table>\n",
              "</div>"
            ],
            "text/plain": [
              "         Date    Open    High  ...   Close  Total Trade Quantity  Turnover (Lacs)\n",
              "0  2018-09-28  234.05  235.95  ...  233.75               3069914          7162.35\n",
              "1  2018-09-27  234.55  236.80  ...  233.25               5082859         11859.95\n",
              "2  2018-09-26  240.00  240.00  ...  234.25               2240909          5248.60\n",
              "3  2018-09-25  233.30  236.75  ...  236.10               2349368          5503.90\n",
              "4  2018-09-24  233.55  239.20  ...  233.30               3423509          7999.55\n",
              "\n",
              "[5 rows x 8 columns]"
            ]
          },
          "metadata": {},
          "execution_count": 3
        }
      ]
    },
    {
      "cell_type": "markdown",
      "metadata": {
        "id": "o6Vbjv71w30r"
      },
      "source": [
        "**Data Sorting**"
      ]
    },
    {
      "cell_type": "code",
      "metadata": {
        "colab": {
          "base_uri": "https://localhost:8080/"
        },
        "id": "6D6Xwl0lr2-L",
        "outputId": "45ffabab-2c91-4d2c-fac4-24d6184beee0"
      },
      "source": [
        "data['Date']=pd.to_datetime(data['Date'])\n",
        "print(type(data.Date[0]))"
      ],
      "execution_count": 4,
      "outputs": [
        {
          "output_type": "stream",
          "name": "stdout",
          "text": [
            "<class 'pandas._libs.tslibs.timestamps.Timestamp'>\n"
          ]
        }
      ]
    },
    {
      "cell_type": "code",
      "metadata": {
        "colab": {
          "base_uri": "https://localhost:8080/",
          "height": 206
        },
        "id": "AilIxwQYr3pX",
        "outputId": "b16de512-9027-462f-9e5d-a52abd79e1b4"
      },
      "source": [
        "df=data.sort_values(by='Date')\n",
        "df.head()"
      ],
      "execution_count": 5,
      "outputs": [
        {
          "output_type": "execute_result",
          "data": {
            "text/html": [
              "<div>\n",
              "<style scoped>\n",
              "    .dataframe tbody tr th:only-of-type {\n",
              "        vertical-align: middle;\n",
              "    }\n",
              "\n",
              "    .dataframe tbody tr th {\n",
              "        vertical-align: top;\n",
              "    }\n",
              "\n",
              "    .dataframe thead th {\n",
              "        text-align: right;\n",
              "    }\n",
              "</style>\n",
              "<table border=\"1\" class=\"dataframe\">\n",
              "  <thead>\n",
              "    <tr style=\"text-align: right;\">\n",
              "      <th></th>\n",
              "      <th>Date</th>\n",
              "      <th>Open</th>\n",
              "      <th>High</th>\n",
              "      <th>Low</th>\n",
              "      <th>Last</th>\n",
              "      <th>Close</th>\n",
              "      <th>Total Trade Quantity</th>\n",
              "      <th>Turnover (Lacs)</th>\n",
              "    </tr>\n",
              "  </thead>\n",
              "  <tbody>\n",
              "    <tr>\n",
              "      <th>2034</th>\n",
              "      <td>2010-07-21</td>\n",
              "      <td>122.1</td>\n",
              "      <td>123.00</td>\n",
              "      <td>121.05</td>\n",
              "      <td>121.10</td>\n",
              "      <td>121.55</td>\n",
              "      <td>658666</td>\n",
              "      <td>803.56</td>\n",
              "    </tr>\n",
              "    <tr>\n",
              "      <th>2033</th>\n",
              "      <td>2010-07-22</td>\n",
              "      <td>120.3</td>\n",
              "      <td>122.00</td>\n",
              "      <td>120.25</td>\n",
              "      <td>120.75</td>\n",
              "      <td>120.90</td>\n",
              "      <td>293312</td>\n",
              "      <td>355.17</td>\n",
              "    </tr>\n",
              "    <tr>\n",
              "      <th>2032</th>\n",
              "      <td>2010-07-23</td>\n",
              "      <td>121.8</td>\n",
              "      <td>121.95</td>\n",
              "      <td>120.25</td>\n",
              "      <td>120.35</td>\n",
              "      <td>120.65</td>\n",
              "      <td>281312</td>\n",
              "      <td>340.31</td>\n",
              "    </tr>\n",
              "    <tr>\n",
              "      <th>2031</th>\n",
              "      <td>2010-07-26</td>\n",
              "      <td>120.1</td>\n",
              "      <td>121.00</td>\n",
              "      <td>117.10</td>\n",
              "      <td>117.10</td>\n",
              "      <td>117.60</td>\n",
              "      <td>658440</td>\n",
              "      <td>780.01</td>\n",
              "    </tr>\n",
              "    <tr>\n",
              "      <th>2030</th>\n",
              "      <td>2010-07-27</td>\n",
              "      <td>117.6</td>\n",
              "      <td>119.50</td>\n",
              "      <td>112.00</td>\n",
              "      <td>118.80</td>\n",
              "      <td>118.65</td>\n",
              "      <td>586100</td>\n",
              "      <td>694.98</td>\n",
              "    </tr>\n",
              "  </tbody>\n",
              "</table>\n",
              "</div>"
            ],
            "text/plain": [
              "           Date   Open    High  ...   Close  Total Trade Quantity  Turnover (Lacs)\n",
              "2034 2010-07-21  122.1  123.00  ...  121.55                658666           803.56\n",
              "2033 2010-07-22  120.3  122.00  ...  120.90                293312           355.17\n",
              "2032 2010-07-23  121.8  121.95  ...  120.65                281312           340.31\n",
              "2031 2010-07-26  120.1  121.00  ...  117.60                658440           780.01\n",
              "2030 2010-07-27  117.6  119.50  ...  118.65                586100           694.98\n",
              "\n",
              "[5 rows x 8 columns]"
            ]
          },
          "metadata": {},
          "execution_count": 5
        }
      ]
    },
    {
      "cell_type": "code",
      "metadata": {
        "id": "tdrwvvGer3sD"
      },
      "source": [
        "df.reset_index(inplace=True)"
      ],
      "execution_count": 6,
      "outputs": []
    },
    {
      "cell_type": "code",
      "metadata": {
        "colab": {
          "base_uri": "https://localhost:8080/",
          "height": 206
        },
        "id": "t4pgVaXRr3us",
        "outputId": "77fdfb99-2637-4087-80bd-70a22484e961"
      },
      "source": [
        "df.head()"
      ],
      "execution_count": 7,
      "outputs": [
        {
          "output_type": "execute_result",
          "data": {
            "text/html": [
              "<div>\n",
              "<style scoped>\n",
              "    .dataframe tbody tr th:only-of-type {\n",
              "        vertical-align: middle;\n",
              "    }\n",
              "\n",
              "    .dataframe tbody tr th {\n",
              "        vertical-align: top;\n",
              "    }\n",
              "\n",
              "    .dataframe thead th {\n",
              "        text-align: right;\n",
              "    }\n",
              "</style>\n",
              "<table border=\"1\" class=\"dataframe\">\n",
              "  <thead>\n",
              "    <tr style=\"text-align: right;\">\n",
              "      <th></th>\n",
              "      <th>index</th>\n",
              "      <th>Date</th>\n",
              "      <th>Open</th>\n",
              "      <th>High</th>\n",
              "      <th>Low</th>\n",
              "      <th>Last</th>\n",
              "      <th>Close</th>\n",
              "      <th>Total Trade Quantity</th>\n",
              "      <th>Turnover (Lacs)</th>\n",
              "    </tr>\n",
              "  </thead>\n",
              "  <tbody>\n",
              "    <tr>\n",
              "      <th>0</th>\n",
              "      <td>2034</td>\n",
              "      <td>2010-07-21</td>\n",
              "      <td>122.1</td>\n",
              "      <td>123.00</td>\n",
              "      <td>121.05</td>\n",
              "      <td>121.10</td>\n",
              "      <td>121.55</td>\n",
              "      <td>658666</td>\n",
              "      <td>803.56</td>\n",
              "    </tr>\n",
              "    <tr>\n",
              "      <th>1</th>\n",
              "      <td>2033</td>\n",
              "      <td>2010-07-22</td>\n",
              "      <td>120.3</td>\n",
              "      <td>122.00</td>\n",
              "      <td>120.25</td>\n",
              "      <td>120.75</td>\n",
              "      <td>120.90</td>\n",
              "      <td>293312</td>\n",
              "      <td>355.17</td>\n",
              "    </tr>\n",
              "    <tr>\n",
              "      <th>2</th>\n",
              "      <td>2032</td>\n",
              "      <td>2010-07-23</td>\n",
              "      <td>121.8</td>\n",
              "      <td>121.95</td>\n",
              "      <td>120.25</td>\n",
              "      <td>120.35</td>\n",
              "      <td>120.65</td>\n",
              "      <td>281312</td>\n",
              "      <td>340.31</td>\n",
              "    </tr>\n",
              "    <tr>\n",
              "      <th>3</th>\n",
              "      <td>2031</td>\n",
              "      <td>2010-07-26</td>\n",
              "      <td>120.1</td>\n",
              "      <td>121.00</td>\n",
              "      <td>117.10</td>\n",
              "      <td>117.10</td>\n",
              "      <td>117.60</td>\n",
              "      <td>658440</td>\n",
              "      <td>780.01</td>\n",
              "    </tr>\n",
              "    <tr>\n",
              "      <th>4</th>\n",
              "      <td>2030</td>\n",
              "      <td>2010-07-27</td>\n",
              "      <td>117.6</td>\n",
              "      <td>119.50</td>\n",
              "      <td>112.00</td>\n",
              "      <td>118.80</td>\n",
              "      <td>118.65</td>\n",
              "      <td>586100</td>\n",
              "      <td>694.98</td>\n",
              "    </tr>\n",
              "  </tbody>\n",
              "</table>\n",
              "</div>"
            ],
            "text/plain": [
              "   index       Date   Open  ...   Close  Total Trade Quantity  Turnover (Lacs)\n",
              "0   2034 2010-07-21  122.1  ...  121.55                658666           803.56\n",
              "1   2033 2010-07-22  120.3  ...  120.90                293312           355.17\n",
              "2   2032 2010-07-23  121.8  ...  120.65                281312           340.31\n",
              "3   2031 2010-07-26  120.1  ...  117.60                658440           780.01\n",
              "4   2030 2010-07-27  117.6  ...  118.65                586100           694.98\n",
              "\n",
              "[5 rows x 9 columns]"
            ]
          },
          "metadata": {},
          "execution_count": 7
        }
      ]
    },
    {
      "cell_type": "markdown",
      "metadata": {
        "id": "HDnbY-guxxqd"
      },
      "source": [
        "**Visualization**"
      ]
    },
    {
      "cell_type": "code",
      "metadata": {
        "colab": {
          "base_uri": "https://localhost:8080/",
          "height": 283
        },
        "id": "cxjrWAsRr3xo",
        "outputId": "82ad3266-5b4c-4036-f393-09837e7e92bd"
      },
      "source": [
        "plt.plot(df['Close'])"
      ],
      "execution_count": 8,
      "outputs": [
        {
          "output_type": "execute_result",
          "data": {
            "text/plain": [
              "[<matplotlib.lines.Line2D at 0x7facdb06e150>]"
            ]
          },
          "metadata": {},
          "execution_count": 8
        },
        {
          "output_type": "display_data",
          "data": {
            "image/png": "[encoded data removed]",
            "text/plain": [
              "<Figure size 432x288 with 1 Axes>"
            ]
          },
          "metadata": {
            "needs_background": "light"
          }
        }
      ]
    },
    {
      "cell_type": "code",
      "metadata": {
        "id": "ZzQIgHIosDtF",
        "colab": {
          "base_uri": "https://localhost:8080/"
        },
        "outputId": "a98d19ac-1555-47ac-c7ab-9e94a6e6441a"
      },
      "source": [
        "dff=df['Close']\n",
        "dff"
      ],
      "execution_count": 9,
      "outputs": [
        {
          "output_type": "execute_result",
          "data": {
            "text/plain": [
              "0       121.55\n",
              "1       120.90\n",
              "2       120.65\n",
              "3       117.60\n",
              "4       118.65\n",
              "         ...  \n",
              "2030    233.30\n",
              "2031    236.10\n",
              "2032    234.25\n",
              "2033    233.25\n",
              "2034    233.75\n",
              "Name: Close, Length: 2035, dtype: float64"
            ]
          },
          "metadata": {},
          "execution_count": 9
        }
      ]
    },
    {
      "cell_type": "markdown",
      "metadata": {
        "id": "TUBgqgPAx43f"
      },
      "source": [
        "**Min Max Scaler**"
      ]
    },
    {
      "cell_type": "code",
      "metadata": {
        "colab": {
          "base_uri": "https://localhost:8080/"
        },
        "id": "WvOVuj-msDv2",
        "outputId": "a2053178-0105-4065-adcc-416b636502f4"
      },
      "source": [
        "scaler=MinMaxScaler(feature_range=(0,1))\n",
        "dff=scaler.fit_transform(np.array(dff).reshape(-1,1))\n",
        "dff"
      ],
      "execution_count": 10,
      "outputs": [
        {
          "output_type": "execute_result",
          "data": {
            "text/plain": [
              "array([[0.16584967],\n",
              "       [0.16319444],\n",
              "       [0.1621732 ],\n",
              "       ...,\n",
              "       [0.62622549],\n",
              "       [0.62214052],\n",
              "       [0.62418301]])"
            ]
          },
          "metadata": {},
          "execution_count": 10
        }
      ]
    },
    {
      "cell_type": "markdown",
      "metadata": {
        "id": "lXjVCSkHx_uA"
      },
      "source": [
        "**Spliting the Dataset**"
      ]
    },
    {
      "cell_type": "code",
      "metadata": {
        "id": "PoQ5sKvVsDy_"
      },
      "source": [
        "training_size=int(len(dff)*0.70)\n",
        "test_size=len(dff)-training_size\n",
        "train_data,test_data=dff[0:training_size,:],dff[training_size:len(dff),:1]"
      ],
      "execution_count": 11,
      "outputs": []
    },
    {
      "cell_type": "markdown",
      "metadata": {
        "id": "T1Y2YCisyNzL"
      },
      "source": [
        "**convert an array of values into a dataset matrix**"
      ]
    },
    {
      "cell_type": "code",
      "metadata": {
        "id": "PyB0gM41sD3E"
      },
      "source": [
        "def create_dataset(dataset, time_step=1):\n",
        "\tdataX, dataY = [], []\n",
        "\tfor i in range(len(dataset)-time_step-1):\n",
        "\t\ta = dataset[i:(i+time_step), 0]   \n",
        "\t\tdataX.append(a)\n",
        "\t\tdataY.append(dataset[i + time_step, 0])\n",
        "\treturn np.array(dataX), np.array(dataY)"
      ],
      "execution_count": 12,
      "outputs": []
    },
    {
      "cell_type": "markdown",
      "metadata": {
        "id": "4FdN67TgyS5t"
      },
      "source": [
        "**Spliting Data into Train and Test**"
      ]
    },
    {
      "cell_type": "code",
      "metadata": {
        "id": "46_MNsUasJZ2"
      },
      "source": [
        "time_step = 100\n",
        "X_train, y_train = create_dataset(train_data, time_step)\n",
        "X_test, ytest = create_dataset(test_data, time_step)"
      ],
      "execution_count": 13,
      "outputs": []
    },
    {
      "cell_type": "code",
      "metadata": {
        "colab": {
          "base_uri": "https://localhost:8080/"
        },
        "id": "Wg1e3BZ2sJcZ",
        "outputId": "d4f0bd23-8499-4858-e99d-d87bb1ea598a"
      },
      "source": [
        "print(X_train.shape), print(y_train.shape)"
      ],
      "execution_count": 14,
      "outputs": [
        {
          "output_type": "stream",
          "name": "stdout",
          "text": [
            "(1323, 100)\n",
            "(1323,)\n"
          ]
        },
        {
          "output_type": "execute_result",
          "data": {
            "text/plain": [
              "(None, None)"
            ]
          },
          "metadata": {},
          "execution_count": 14
        }
      ]
    },
    {
      "cell_type": "code",
      "metadata": {
        "colab": {
          "base_uri": "https://localhost:8080/"
        },
        "id": "hPVq6WITsJhe",
        "outputId": "36336651-f2a9-4155-af12-99e905ca2569"
      },
      "source": [
        "print(X_test.shape), print(ytest.shape)"
      ],
      "execution_count": 15,
      "outputs": [
        {
          "output_type": "stream",
          "name": "stdout",
          "text": [
            "(510, 100)\n",
            "(510,)\n"
          ]
        },
        {
          "output_type": "execute_result",
          "data": {
            "text/plain": [
              "(None, None)"
            ]
          },
          "metadata": {},
          "execution_count": 15
        }
      ]
    },
    {
      "cell_type": "code",
      "metadata": {
        "id": "X2aeKwZnsJkU"
      },
      "source": [
        "X_train =X_train.reshape(X_train.shape[0],X_train.shape[1] , 1)\n",
        "X_test = X_test.reshape(X_test.shape[0],X_test.shape[1] , 1)"
      ],
      "execution_count": 16,
      "outputs": []
    },
    {
      "cell_type": "markdown",
      "metadata": {
        "id": "EDpuxOKIyiP1"
      },
      "source": [
        "**Creating the LSTM Model**"
      ]
    },
    {
      "cell_type": "code",
      "metadata": {
        "id": "M1PBk5yrsD5h"
      },
      "source": [
        "from tensorflow.keras.models import Sequential\n",
        "from tensorflow.keras.layers import Dense\n",
        "from tensorflow.keras.layers import LSTM"
      ],
      "execution_count": 17,
      "outputs": []
    },
    {
      "cell_type": "code",
      "metadata": {
        "colab": {
          "base_uri": "https://localhost:8080/"
        },
        "id": "LTodqbHfsT4O",
        "outputId": "2de04159-50f2-43fb-fb17-506e1b27c6e3"
      },
      "source": [
        "model=Sequential()\n",
        "model.add(LSTM(50,return_sequences=True,input_shape=(100,1)))\n",
        "model.add(LSTM(50,return_sequences=True))\n",
        "model.add(LSTM(50))\n",
        "model.add(Dense(1))\n",
        "model.compile(loss='mean_squared_error',optimizer='adam')\n",
        "model.summary()"
      ],
      "execution_count": 18,
      "outputs": [
        {
          "output_type": "stream",
          "name": "stdout",
          "text": [
            "Model: \"sequential\"\n",
            "_________________________________________________________________\n",
            "Layer (type)                 Output Shape              Param #   \n",
            "=================================================================\n",
            "lstm (LSTM)                  (None, 100, 50)           10400     \n",
            "_________________________________________________________________\n",
            "lstm_1 (LSTM)                (None, 100, 50)           20200     \n",
            "_________________________________________________________________\n",
            "lstm_2 (LSTM)                (None, 50)                20200     \n",
            "_________________________________________________________________\n",
            "dense (Dense)                (None, 1)                 51        \n",
            "=================================================================\n",
            "Total params: 50,851\n",
            "Trainable params: 50,851\n",
            "Non-trainable params: 0\n",
            "_________________________________________________________________\n"
          ]
        }
      ]
    },
    {
      "cell_type": "code",
      "metadata": {
        "colab": {
          "base_uri": "https://localhost:8080/"
        },
        "id": "ainGBWMAsT7F",
        "outputId": "b0f42b58-761f-4c36-a87d-9cd4504cc2c1"
      },
      "source": [
        "model.fit(X_train,y_train,validation_split=0.1,epochs=60,batch_size=64,verbose=1)"
      ],
      "execution_count": 19,
      "outputs": [
        {
          "output_type": "stream",
          "name": "stdout",
          "text": [
            "Epoch 1/60\n",
            "19/19 [==============================] - 13s 327ms/step - loss: 0.0095 - val_loss: 0.0017\n",
            "Epoch 2/60\n",
            "19/19 [==============================] - 4s 208ms/step - loss: 0.0018 - val_loss: 0.0017\n",
            "Epoch 3/60\n",
            "19/19 [==============================] - 4s 204ms/step - loss: 9.4126e-04 - val_loss: 0.0013\n",
            "Epoch 4/60\n",
            "19/19 [==============================] - 4s 203ms/step - loss: 9.3008e-04 - val_loss: 0.0013\n",
            "Epoch 5/60\n",
            "19/19 [==============================] - 4s 216ms/step - loss: 9.3233e-04 - val_loss: 0.0011\n",
            "Epoch 6/60\n",
            "19/19 [==============================] - 4s 200ms/step - loss: 8.1950e-04 - val_loss: 0.0011\n",
            "Epoch 7/60\n",
            "19/19 [==============================] - 4s 194ms/step - loss: 8.0051e-04 - val_loss: 0.0011\n",
            "Epoch 8/60\n",
            "19/19 [==============================] - 4s 200ms/step - loss: 7.8151e-04 - val_loss: 0.0010\n",
            "Epoch 9/60\n",
            "19/19 [==============================] - 4s 208ms/step - loss: 7.4686e-04 - val_loss: 9.6269e-04\n",
            "Epoch 10/60\n",
            "19/19 [==============================] - 4s 204ms/step - loss: 7.3383e-04 - val_loss: 8.9759e-04\n",
            "Epoch 11/60\n",
            "19/19 [==============================] - 4s 209ms/step - loss: 7.0663e-04 - val_loss: 8.8101e-04\n",
            "Epoch 12/60\n",
            "19/19 [==============================] - 4s 209ms/step - loss: 7.1734e-04 - val_loss: 8.1082e-04\n",
            "Epoch 13/60\n",
            "19/19 [==============================] - 4s 223ms/step - loss: 6.8641e-04 - val_loss: 7.9073e-04\n",
            "Epoch 14/60\n",
            "19/19 [==============================] - 4s 231ms/step - loss: 7.0848e-04 - val_loss: 7.8484e-04\n",
            "Epoch 15/60\n",
            "19/19 [==============================] - 5s 241ms/step - loss: 6.3350e-04 - val_loss: 7.4977e-04\n",
            "Epoch 16/60\n",
            "19/19 [==============================] - 4s 227ms/step - loss: 6.0376e-04 - val_loss: 7.1971e-04\n",
            "Epoch 17/60\n",
            "19/19 [==============================] - 4s 214ms/step - loss: 6.0960e-04 - val_loss: 6.9403e-04\n",
            "Epoch 18/60\n",
            "19/19 [==============================] - 4s 221ms/step - loss: 5.6253e-04 - val_loss: 6.7966e-04\n",
            "Epoch 19/60\n",
            "19/19 [==============================] - 4s 213ms/step - loss: 5.5842e-04 - val_loss: 8.0487e-04\n",
            "Epoch 20/60\n",
            "19/19 [==============================] - 4s 197ms/step - loss: 5.8056e-04 - val_loss: 5.9751e-04\n",
            "Epoch 21/60\n",
            "19/19 [==============================] - 4s 198ms/step - loss: 5.4414e-04 - val_loss: 5.5989e-04\n",
            "Epoch 22/60\n",
            "19/19 [==============================] - 4s 205ms/step - loss: 5.3678e-04 - val_loss: 6.5298e-04\n",
            "Epoch 23/60\n",
            "19/19 [==============================] - 4s 209ms/step - loss: 5.2171e-04 - val_loss: 6.3963e-04\n",
            "Epoch 24/60\n",
            "19/19 [==============================] - 4s 189ms/step - loss: 5.3043e-04 - val_loss: 5.6152e-04\n",
            "Epoch 25/60\n",
            "19/19 [==============================] - 4s 196ms/step - loss: 4.8944e-04 - val_loss: 4.9026e-04\n",
            "Epoch 26/60\n",
            "19/19 [==============================] - 4s 210ms/step - loss: 4.7102e-04 - val_loss: 5.0344e-04\n",
            "Epoch 27/60\n",
            "19/19 [==============================] - 4s 220ms/step - loss: 4.6494e-04 - val_loss: 4.6622e-04\n",
            "Epoch 28/60\n",
            "19/19 [==============================] - 4s 204ms/step - loss: 4.5124e-04 - val_loss: 4.6563e-04\n",
            "Epoch 29/60\n",
            "19/19 [==============================] - 4s 225ms/step - loss: 4.2752e-04 - val_loss: 4.5411e-04\n",
            "Epoch 30/60\n",
            "19/19 [==============================] - 5s 257ms/step - loss: 4.1764e-04 - val_loss: 4.2289e-04\n",
            "Epoch 31/60\n",
            "19/19 [==============================] - 5s 237ms/step - loss: 4.1740e-04 - val_loss: 4.2309e-04\n",
            "Epoch 32/60\n",
            "19/19 [==============================] - 4s 224ms/step - loss: 4.0743e-04 - val_loss: 3.8679e-04\n",
            "Epoch 33/60\n",
            "19/19 [==============================] - 4s 224ms/step - loss: 3.8867e-04 - val_loss: 4.1301e-04\n",
            "Epoch 34/60\n",
            "19/19 [==============================] - 5s 240ms/step - loss: 3.7775e-04 - val_loss: 4.0359e-04\n",
            "Epoch 35/60\n",
            "19/19 [==============================] - 4s 205ms/step - loss: 3.8856e-04 - val_loss: 4.0886e-04\n",
            "Epoch 36/60\n",
            "19/19 [==============================] - 4s 208ms/step - loss: 4.9566e-04 - val_loss: 5.7178e-04\n",
            "Epoch 37/60\n",
            "19/19 [==============================] - 4s 221ms/step - loss: 3.6717e-04 - val_loss: 3.3502e-04\n",
            "Epoch 38/60\n",
            "19/19 [==============================] - 4s 230ms/step - loss: 3.5925e-04 - val_loss: 3.3014e-04\n",
            "Epoch 39/60\n",
            "19/19 [==============================] - 4s 226ms/step - loss: 3.3525e-04 - val_loss: 3.1192e-04\n",
            "Epoch 40/60\n",
            "19/19 [==============================] - 4s 220ms/step - loss: 3.2345e-04 - val_loss: 3.1082e-04\n",
            "Epoch 41/60\n",
            "19/19 [==============================] - 4s 223ms/step - loss: 3.0759e-04 - val_loss: 3.0924e-04\n",
            "Epoch 42/60\n",
            "19/19 [==============================] - 4s 223ms/step - loss: 3.0901e-04 - val_loss: 2.6472e-04\n",
            "Epoch 43/60\n",
            "19/19 [==============================] - 4s 220ms/step - loss: 2.9021e-04 - val_loss: 3.1113e-04\n",
            "Epoch 44/60\n",
            "19/19 [==============================] - 4s 224ms/step - loss: 2.8771e-04 - val_loss: 2.8940e-04\n",
            "Epoch 45/60\n",
            "19/19 [==============================] - 4s 213ms/step - loss: 2.7054e-04 - val_loss: 2.3452e-04\n",
            "Epoch 46/60\n",
            "19/19 [==============================] - 4s 225ms/step - loss: 2.6759e-04 - val_loss: 2.2321e-04\n",
            "Epoch 47/60\n",
            "19/19 [==============================] - 5s 242ms/step - loss: 2.5583e-04 - val_loss: 2.5763e-04\n",
            "Epoch 48/60\n",
            "19/19 [==============================] - 4s 227ms/step - loss: 2.7323e-04 - val_loss: 2.1709e-04\n",
            "Epoch 49/60\n",
            "19/19 [==============================] - 4s 203ms/step - loss: 2.8558e-04 - val_loss: 2.2212e-04\n",
            "Epoch 50/60\n",
            "19/19 [==============================] - 4s 211ms/step - loss: 2.3998e-04 - val_loss: 2.4717e-04\n",
            "Epoch 51/60\n",
            "19/19 [==============================] - 4s 231ms/step - loss: 2.5034e-04 - val_loss: 2.0460e-04\n",
            "Epoch 52/60\n",
            "19/19 [==============================] - 4s 233ms/step - loss: 2.4178e-04 - val_loss: 2.3421e-04\n",
            "Epoch 53/60\n",
            "19/19 [==============================] - 4s 211ms/step - loss: 2.4557e-04 - val_loss: 2.0536e-04\n",
            "Epoch 54/60\n",
            "19/19 [==============================] - 4s 232ms/step - loss: 2.2139e-04 - val_loss: 1.9579e-04\n",
            "Epoch 55/60\n",
            "19/19 [==============================] - 5s 267ms/step - loss: 2.5047e-04 - val_loss: 2.7833e-04\n",
            "Epoch 56/60\n",
            "19/19 [==============================] - 5s 237ms/step - loss: 2.2219e-04 - val_loss: 1.8297e-04\n",
            "Epoch 57/60\n",
            "19/19 [==============================] - 4s 225ms/step - loss: 2.0965e-04 - val_loss: 1.9008e-04\n",
            "Epoch 58/60\n",
            "19/19 [==============================] - 5s 245ms/step - loss: 2.2956e-04 - val_loss: 1.8644e-04\n",
            "Epoch 59/60\n",
            "19/19 [==============================] - 4s 221ms/step - loss: 2.0748e-04 - val_loss: 1.7085e-04\n",
            "Epoch 60/60\n",
            "19/19 [==============================] - 4s 224ms/step - loss: 2.2378e-04 - val_loss: 2.9782e-04\n"
          ]
        },
        {
          "output_type": "execute_result",
          "data": {
            "text/plain": [
              "<keras.callbacks.History at 0x7facd317efd0>"
            ]
          },
          "metadata": {},
          "execution_count": 19
        }
      ]
    },
    {
      "cell_type": "markdown",
      "metadata": {
        "id": "PQUrsin3yrgQ"
      },
      "source": [
        "**Prediction and Checking Performance**"
      ]
    },
    {
      "cell_type": "code",
      "metadata": {
        "id": "DY3TrhYKsT9s"
      },
      "source": [
        "test_predict=model.predict(X_test)"
      ],
      "execution_count": 20,
      "outputs": []
    },
    {
      "cell_type": "code",
      "metadata": {
        "id": "CFAi8L45sUAV",
        "colab": {
          "base_uri": "https://localhost:8080/"
        },
        "outputId": "c90ffb98-0b1b-40d7-d2f0-19f0f8474b42"
      },
      "source": [
        "test_predicted=scaler.inverse_transform(test_predict)\n",
        "test_predicted"
      ],
      "execution_count": 21,
      "outputs": [
        {
          "output_type": "execute_result",
          "data": {
            "text/plain": [
              "array([[138.18402 ],\n",
              "       [138.34164 ],\n",
              "       [137.45012 ],\n",
              "       [134.81479 ],\n",
              "       [133.08096 ],\n",
              "       [132.5613  ],\n",
              "       [133.80635 ],\n",
              "       [135.5206  ],\n",
              "       [136.03911 ],\n",
              "       [135.64145 ],\n",
              "       [135.27509 ],\n",
              "       [136.32327 ],\n",
              "       [137.14912 ],\n",
              "       [138.69293 ],\n",
              "       [140.85208 ],\n",
              "       [138.98958 ],\n",
              "       [136.41264 ],\n",
              "       [135.84158 ],\n",
              "       [136.49902 ],\n",
              "       [141.45627 ],\n",
              "       [146.06873 ],\n",
              "       [148.28314 ],\n",
              "       [148.40024 ],\n",
              "       [146.08267 ],\n",
              "       [145.53796 ],\n",
              "       [145.30968 ],\n",
              "       [145.79265 ],\n",
              "       [147.52351 ],\n",
              "       [148.35959 ],\n",
              "       [148.33394 ],\n",
              "       [148.5719  ],\n",
              "       [147.39809 ],\n",
              "       [144.20137 ],\n",
              "       [138.62878 ],\n",
              "       [135.16254 ],\n",
              "       [134.26741 ],\n",
              "       [134.66151 ],\n",
              "       [134.14682 ],\n",
              "       [132.0051  ],\n",
              "       [128.38002 ],\n",
              "       [125.7781  ],\n",
              "       [124.59827 ],\n",
              "       [122.74835 ],\n",
              "       [122.0139  ],\n",
              "       [120.208694],\n",
              "       [117.72833 ],\n",
              "       [116.970085],\n",
              "       [116.76244 ],\n",
              "       [117.117874],\n",
              "       [116.373695],\n",
              "       [115.53201 ],\n",
              "       [115.09978 ],\n",
              "       [114.345276],\n",
              "       [114.45168 ],\n",
              "       [115.772095],\n",
              "       [117.63317 ],\n",
              "       [119.64289 ],\n",
              "       [120.50372 ],\n",
              "       [120.232   ],\n",
              "       [120.078384],\n",
              "       [120.12432 ],\n",
              "       [119.95222 ],\n",
              "       [120.13474 ],\n",
              "       [120.55605 ],\n",
              "       [120.817276],\n",
              "       [120.892715],\n",
              "       [120.70044 ],\n",
              "       [120.935005],\n",
              "       [121.36203 ],\n",
              "       [121.71915 ],\n",
              "       [121.00798 ],\n",
              "       [119.978294],\n",
              "       [118.59144 ],\n",
              "       [117.30687 ],\n",
              "       [116.017944],\n",
              "       [116.09402 ],\n",
              "       [116.74186 ],\n",
              "       [117.78601 ],\n",
              "       [118.9352  ],\n",
              "       [120.16784 ],\n",
              "       [121.289345],\n",
              "       [121.9438  ],\n",
              "       [122.29532 ],\n",
              "       [122.2202  ],\n",
              "       [121.95576 ],\n",
              "       [121.62515 ],\n",
              "       [122.30564 ],\n",
              "       [122.714516],\n",
              "       [123.66283 ],\n",
              "       [124.4926  ],\n",
              "       [124.90614 ],\n",
              "       [125.272194],\n",
              "       [126.11138 ],\n",
              "       [125.71009 ],\n",
              "       [125.08877 ],\n",
              "       [124.87744 ],\n",
              "       [124.9853  ],\n",
              "       [125.46728 ],\n",
              "       [126.372765],\n",
              "       [126.69882 ],\n",
              "       [126.89882 ],\n",
              "       [129.39302 ],\n",
              "       [133.81618 ],\n",
              "       [137.87003 ],\n",
              "       [139.56667 ],\n",
              "       [140.76015 ],\n",
              "       [140.65242 ],\n",
              "       [139.85027 ],\n",
              "       [138.40411 ],\n",
              "       [137.00842 ],\n",
              "       [135.47545 ],\n",
              "       [135.01062 ],\n",
              "       [135.45268 ],\n",
              "       [136.70187 ],\n",
              "       [137.89175 ],\n",
              "       [137.96399 ],\n",
              "       [137.10593 ],\n",
              "       [136.01962 ],\n",
              "       [134.98422 ],\n",
              "       [136.26419 ],\n",
              "       [137.49619 ],\n",
              "       [138.73343 ],\n",
              "       [139.46632 ],\n",
              "       [139.42593 ],\n",
              "       [138.5155  ],\n",
              "       [137.32349 ],\n",
              "       [135.24138 ],\n",
              "       [134.33847 ],\n",
              "       [135.0536  ],\n",
              "       [137.63974 ],\n",
              "       [140.21643 ],\n",
              "       [142.17935 ],\n",
              "       [142.81161 ],\n",
              "       [141.4525  ],\n",
              "       [142.66603 ],\n",
              "       [144.86638 ],\n",
              "       [145.4827  ],\n",
              "       [145.58752 ],\n",
              "       [145.57831 ],\n",
              "       [145.40367 ],\n",
              "       [145.39276 ],\n",
              "       [146.03354 ],\n",
              "       [147.068   ],\n",
              "       [148.0029  ],\n",
              "       [147.54517 ],\n",
              "       [146.68047 ],\n",
              "       [147.03424 ],\n",
              "       [147.30656 ],\n",
              "       [146.82317 ],\n",
              "       [145.76694 ],\n",
              "       [144.44785 ],\n",
              "       [144.37115 ],\n",
              "       [145.76282 ],\n",
              "       [146.93678 ],\n",
              "       [147.59906 ],\n",
              "       [147.62323 ],\n",
              "       [148.08618 ],\n",
              "       [147.98817 ],\n",
              "       [147.92911 ],\n",
              "       [149.72145 ],\n",
              "       [151.1664  ],\n",
              "       [151.276   ],\n",
              "       [149.48398 ],\n",
              "       [147.71379 ],\n",
              "       [147.47124 ],\n",
              "       [148.47116 ],\n",
              "       [149.27522 ],\n",
              "       [149.036   ],\n",
              "       [149.14473 ],\n",
              "       [149.4389  ],\n",
              "       [149.033   ],\n",
              "       [146.34886 ],\n",
              "       [144.44347 ],\n",
              "       [143.3442  ],\n",
              "       [141.9283  ],\n",
              "       [139.77092 ],\n",
              "       [138.66277 ],\n",
              "       [140.04921 ],\n",
              "       [141.60834 ],\n",
              "       [142.418   ],\n",
              "       [143.84207 ],\n",
              "       [146.1605  ],\n",
              "       [148.7994  ],\n",
              "       [150.3834  ],\n",
              "       [149.85938 ],\n",
              "       [149.42891 ],\n",
              "       [149.05316 ],\n",
              "       [148.77864 ],\n",
              "       [147.84036 ],\n",
              "       [148.68927 ],\n",
              "       [151.06041 ],\n",
              "       [153.36934 ],\n",
              "       [154.17639 ],\n",
              "       [153.1315  ],\n",
              "       [151.87502 ],\n",
              "       [151.19186 ],\n",
              "       [150.3108  ],\n",
              "       [148.27661 ],\n",
              "       [145.13704 ],\n",
              "       [143.62451 ],\n",
              "       [143.50482 ],\n",
              "       [144.85587 ],\n",
              "       [146.68933 ],\n",
              "       [147.28271 ],\n",
              "       [149.17065 ],\n",
              "       [149.9559  ],\n",
              "       [151.25443 ],\n",
              "       [155.73944 ],\n",
              "       [161.06703 ],\n",
              "       [165.78905 ],\n",
              "       [168.53094 ],\n",
              "       [168.3779  ],\n",
              "       [168.09265 ],\n",
              "       [166.71416 ],\n",
              "       [166.12593 ],\n",
              "       [164.7919  ],\n",
              "       [164.2487  ],\n",
              "       [163.6666  ],\n",
              "       [163.9302  ],\n",
              "       [165.04881 ],\n",
              "       [164.3918  ],\n",
              "       [163.4412  ],\n",
              "       [163.10425 ],\n",
              "       [162.31999 ],\n",
              "       [160.57509 ],\n",
              "       [159.86037 ],\n",
              "       [159.96803 ],\n",
              "       [162.00403 ],\n",
              "       [162.08656 ],\n",
              "       [159.32013 ],\n",
              "       [154.08751 ],\n",
              "       [153.68707 ],\n",
              "       [162.09418 ],\n",
              "       [177.16582 ],\n",
              "       [186.31017 ],\n",
              "       [188.64261 ],\n",
              "       [187.38113 ],\n",
              "       [182.33612 ],\n",
              "       [181.39177 ],\n",
              "       [182.1169  ],\n",
              "       [182.70523 ],\n",
              "       [181.77203 ],\n",
              "       [184.12682 ],\n",
              "       [187.42545 ],\n",
              "       [188.9941  ],\n",
              "       [186.83997 ],\n",
              "       [185.91727 ],\n",
              "       [190.60228 ],\n",
              "       [194.8818  ],\n",
              "       [196.66823 ],\n",
              "       [197.44148 ],\n",
              "       [198.7281  ],\n",
              "       [197.1281  ],\n",
              "       [197.48875 ],\n",
              "       [197.95865 ],\n",
              "       [199.49184 ],\n",
              "       [202.09595 ],\n",
              "       [202.37747 ],\n",
              "       [200.75887 ],\n",
              "       [193.98157 ],\n",
              "       [187.05186 ],\n",
              "       [188.51405 ],\n",
              "       [189.74673 ],\n",
              "       [192.03297 ],\n",
              "       [194.87183 ],\n",
              "       [196.48538 ],\n",
              "       [195.71799 ],\n",
              "       [196.46019 ],\n",
              "       [197.46191 ],\n",
              "       [197.13928 ],\n",
              "       [196.48123 ],\n",
              "       [196.63922 ],\n",
              "       [198.3892  ],\n",
              "       [198.93517 ],\n",
              "       [198.30894 ],\n",
              "       [198.04707 ],\n",
              "       [196.46188 ],\n",
              "       [194.1923  ],\n",
              "       [192.3842  ],\n",
              "       [195.151   ],\n",
              "       [196.10631 ],\n",
              "       [197.6889  ],\n",
              "       [203.93604 ],\n",
              "       [211.36156 ],\n",
              "       [214.48126 ],\n",
              "       [214.09276 ],\n",
              "       [211.85268 ],\n",
              "       [209.80174 ],\n",
              "       [213.99083 ],\n",
              "       [213.27167 ],\n",
              "       [210.69403 ],\n",
              "       [217.59071 ],\n",
              "       [221.78186 ],\n",
              "       [220.92574 ],\n",
              "       [225.09842 ],\n",
              "       [230.73886 ],\n",
              "       [233.46881 ],\n",
              "       [237.2693  ],\n",
              "       [246.54103 ],\n",
              "       [250.72435 ],\n",
              "       [250.63454 ],\n",
              "       [249.87842 ],\n",
              "       [251.70007 ],\n",
              "       [252.69446 ],\n",
              "       [258.13644 ],\n",
              "       [257.65793 ],\n",
              "       [259.16483 ],\n",
              "       [258.74057 ],\n",
              "       [255.62543 ],\n",
              "       [254.45125 ],\n",
              "       [252.17639 ],\n",
              "       [255.82173 ],\n",
              "       [261.0239  ],\n",
              "       [267.8302  ],\n",
              "       [265.08307 ],\n",
              "       [259.49243 ],\n",
              "       [257.1954  ],\n",
              "       [258.90216 ],\n",
              "       [262.63882 ],\n",
              "       [269.31894 ],\n",
              "       [272.34277 ],\n",
              "       [271.80215 ],\n",
              "       [272.08176 ],\n",
              "       [274.1615  ],\n",
              "       [275.14856 ],\n",
              "       [275.75745 ],\n",
              "       [280.92856 ],\n",
              "       [282.1015  ],\n",
              "       [280.45975 ],\n",
              "       [279.4812  ],\n",
              "       [280.04236 ],\n",
              "       [281.00415 ],\n",
              "       [283.75015 ],\n",
              "       [283.91565 ],\n",
              "       [282.6584  ],\n",
              "       [281.61057 ],\n",
              "       [287.63345 ],\n",
              "       [289.8735  ],\n",
              "       [286.1193  ],\n",
              "       [282.19067 ],\n",
              "       [276.99487 ],\n",
              "       [276.7154  ],\n",
              "       [278.2099  ],\n",
              "       [278.09705 ],\n",
              "       [276.05606 ],\n",
              "       [274.9327  ],\n",
              "       [273.54694 ],\n",
              "       [274.10165 ],\n",
              "       [267.79474 ],\n",
              "       [262.75555 ],\n",
              "       [254.59756 ],\n",
              "       [250.37346 ],\n",
              "       [246.94089 ],\n",
              "       [253.1812  ],\n",
              "       [257.96237 ],\n",
              "       [257.3834  ],\n",
              "       [258.99493 ],\n",
              "       [258.49158 ],\n",
              "       [255.91626 ],\n",
              "       [252.72644 ],\n",
              "       [247.6052  ],\n",
              "       [242.84718 ],\n",
              "       [243.74384 ],\n",
              "       [243.48643 ],\n",
              "       [247.37654 ],\n",
              "       [251.36736 ],\n",
              "       [253.13068 ],\n",
              "       [253.07617 ],\n",
              "       [252.05673 ],\n",
              "       [251.79695 ],\n",
              "       [251.18135 ],\n",
              "       [248.13596 ],\n",
              "       [248.90704 ],\n",
              "       [247.84831 ],\n",
              "       [250.87593 ],\n",
              "       [254.30078 ],\n",
              "       [255.45786 ],\n",
              "       [255.62166 ],\n",
              "       [251.62524 ],\n",
              "       [242.77153 ],\n",
              "       [239.52893 ],\n",
              "       [241.1395  ],\n",
              "       [240.72957 ],\n",
              "       [239.35773 ],\n",
              "       [240.94061 ],\n",
              "       [243.13904 ],\n",
              "       [241.15387 ],\n",
              "       [248.40277 ],\n",
              "       [252.67844 ],\n",
              "       [250.2745  ],\n",
              "       [248.86197 ],\n",
              "       [248.80765 ],\n",
              "       [251.85982 ],\n",
              "       [252.69504 ],\n",
              "       [251.41206 ],\n",
              "       [250.53514 ],\n",
              "       [251.37167 ],\n",
              "       [254.32692 ],\n",
              "       [256.53574 ],\n",
              "       [258.53894 ],\n",
              "       [260.18408 ],\n",
              "       [260.60852 ],\n",
              "       [258.9782  ],\n",
              "       [257.68805 ],\n",
              "       [260.59738 ],\n",
              "       [263.8407  ],\n",
              "       [265.31024 ],\n",
              "       [268.05392 ],\n",
              "       [266.89856 ],\n",
              "       [262.20132 ],\n",
              "       [260.54944 ],\n",
              "       [264.4112  ],\n",
              "       [264.77542 ],\n",
              "       [264.93924 ],\n",
              "       [261.57233 ],\n",
              "       [260.6742  ],\n",
              "       [244.22493 ],\n",
              "       [227.20688 ],\n",
              "       [221.97878 ],\n",
              "       [227.54445 ],\n",
              "       [230.96274 ],\n",
              "       [230.42152 ],\n",
              "       [230.7122  ],\n",
              "       [232.44571 ],\n",
              "       [235.3052  ],\n",
              "       [238.02713 ],\n",
              "       [240.07758 ],\n",
              "       [238.7892  ],\n",
              "       [240.81532 ],\n",
              "       [245.20403 ],\n",
              "       [244.3337  ],\n",
              "       [238.12292 ],\n",
              "       [239.2263  ],\n",
              "       [243.33372 ],\n",
              "       [246.14844 ],\n",
              "       [246.54832 ],\n",
              "       [244.23782 ],\n",
              "       [244.66801 ],\n",
              "       [246.76292 ],\n",
              "       [252.02612 ],\n",
              "       [251.77081 ],\n",
              "       [251.41411 ],\n",
              "       [247.13223 ],\n",
              "       [241.20999 ],\n",
              "       [237.65591 ],\n",
              "       [239.52658 ],\n",
              "       [243.09357 ],\n",
              "       [246.09203 ],\n",
              "       [245.86536 ],\n",
              "       [243.76988 ],\n",
              "       [245.28262 ],\n",
              "       [244.34647 ],\n",
              "       [251.61472 ],\n",
              "       [254.79991 ],\n",
              "       [251.06638 ],\n",
              "       [245.27069 ],\n",
              "       [247.81566 ],\n",
              "       [251.07559 ],\n",
              "       [249.55212 ],\n",
              "       [245.24367 ],\n",
              "       [239.87901 ],\n",
              "       [229.50677 ],\n",
              "       [227.32709 ],\n",
              "       [224.59477 ],\n",
              "       [220.2918  ],\n",
              "       [221.37488 ],\n",
              "       [226.03204 ],\n",
              "       [230.04117 ],\n",
              "       [225.99693 ],\n",
              "       [222.61359 ],\n",
              "       [223.45267 ],\n",
              "       [225.03368 ],\n",
              "       [228.08052 ],\n",
              "       [223.86668 ],\n",
              "       [219.61366 ],\n",
              "       [218.1039  ],\n",
              "       [221.12517 ],\n",
              "       [222.831   ],\n",
              "       [222.17268 ],\n",
              "       [221.64128 ],\n",
              "       [219.5897  ],\n",
              "       [218.7375  ],\n",
              "       [220.46683 ],\n",
              "       [222.87453 ],\n",
              "       [225.71022 ],\n",
              "       [227.89726 ],\n",
              "       [225.96046 ],\n",
              "       [221.06001 ],\n",
              "       [216.10793 ],\n",
              "       [217.70287 ],\n",
              "       [218.836   ],\n",
              "       [219.50844 ],\n",
              "       [220.44528 ],\n",
              "       [219.97897 ],\n",
              "       [220.42117 ],\n",
              "       [214.16092 ],\n",
              "       [208.64328 ],\n",
              "       [206.58571 ],\n",
              "       [208.10283 ],\n",
              "       [209.47585 ],\n",
              "       [206.76936 ],\n",
              "       [207.56335 ],\n",
              "       [215.01135 ],\n",
              "       [221.41035 ],\n",
              "       [222.13127 ],\n",
              "       [219.989   ],\n",
              "       [218.04913 ],\n",
              "       [216.79204 ],\n",
              "       [218.08978 ],\n",
              "       [218.70886 ]], dtype=float32)"
            ]
          },
          "metadata": {},
          "execution_count": 21
        }
      ]
    },
    {
      "cell_type": "markdown",
      "metadata": {
        "id": "zy1G8oW_y5B0"
      },
      "source": [
        "**Calculating performance**"
      ]
    },
    {
      "cell_type": "code",
      "metadata": {
        "id": "Mc93FwcdsUCk"
      },
      "source": [
        "import math\n",
        "from sklearn.metrics import mean_squared_error"
      ],
      "execution_count": 22,
      "outputs": []
    },
    {
      "cell_type": "code",
      "metadata": {
        "colab": {
          "base_uri": "https://localhost:8080/"
        },
        "id": "juG_cXWQfzJ0",
        "outputId": "f425962c-d2bb-4223-b23b-7023e544dd81"
      },
      "source": [
        "performance = math.sqrt(mean_squared_error(ytest,test_predict))\n",
        "performance"
      ],
      "execution_count": 23,
      "outputs": [
        {
          "output_type": "execute_result",
          "data": {
            "text/plain": [
              "0.06744329699861314"
            ]
          },
          "metadata": {},
          "execution_count": 23
        }
      ]
    }
  ]
}